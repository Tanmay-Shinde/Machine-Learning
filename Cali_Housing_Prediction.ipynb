{
  "nbformat": 4,
  "nbformat_minor": 0,
  "metadata": {
    "colab": {
      "name": "Cali Housing Prediction.ipynb",
      "provenance": [],
      "collapsed_sections": []
    },
    "kernelspec": {
      "name": "python3",
      "display_name": "Python 3"
    },
    "language_info": {
      "name": "python"
    }
  },
  "cells": [
    {
      "cell_type": "code",
      "metadata": {
        "id": "LuYz9LF0o1oQ"
      },
      "source": [
        "# Given the latitude and longitude, predicting the housing price in California"
      ],
      "execution_count": null,
      "outputs": []
    },
    {
      "cell_type": "code",
      "metadata": {
        "id": "fD31i2__pEtQ"
      },
      "source": [
        "import pandas as pd"
      ],
      "execution_count": null,
      "outputs": []
    },
    {
      "cell_type": "markdown",
      "metadata": {
        "id": "3wtbty_iGN8J"
      },
      "source": [
        "Loading dataset"
      ]
    },
    {
      "cell_type": "code",
      "metadata": {
        "id": "ndWIthfEpWAi",
        "colab": {
          "base_uri": "https://localhost:8080/",
          "height": 422
        },
        "outputId": "197153d5-1766-4a6f-fb8f-3013cefb9056"
      },
      "source": [
        "df = pd.read_csv(\"/content/housing.csv\")\n",
        "df"
      ],
      "execution_count": null,
      "outputs": [
        {
          "output_type": "execute_result",
          "data": {
            "text/html": [
              "<div>\n",
              "<style scoped>\n",
              "    .dataframe tbody tr th:only-of-type {\n",
              "        vertical-align: middle;\n",
              "    }\n",
              "\n",
              "    .dataframe tbody tr th {\n",
              "        vertical-align: top;\n",
              "    }\n",
              "\n",
              "    .dataframe thead th {\n",
              "        text-align: right;\n",
              "    }\n",
              "</style>\n",
              "<table border=\"1\" class=\"dataframe\">\n",
              "  <thead>\n",
              "    <tr style=\"text-align: right;\">\n",
              "      <th></th>\n",
              "      <th>longitude</th>\n",
              "      <th>latitude</th>\n",
              "      <th>housing_median_age</th>\n",
              "      <th>total_rooms</th>\n",
              "      <th>total_bedrooms</th>\n",
              "      <th>population</th>\n",
              "      <th>households</th>\n",
              "      <th>median_income</th>\n",
              "      <th>median_house_value</th>\n",
              "      <th>ocean_proximity</th>\n",
              "    </tr>\n",
              "  </thead>\n",
              "  <tbody>\n",
              "    <tr>\n",
              "      <th>0</th>\n",
              "      <td>-122.23</td>\n",
              "      <td>37.88</td>\n",
              "      <td>41</td>\n",
              "      <td>880</td>\n",
              "      <td>129</td>\n",
              "      <td>322</td>\n",
              "      <td>126</td>\n",
              "      <td>8.3252</td>\n",
              "      <td>452600</td>\n",
              "      <td>NEAR BAY</td>\n",
              "    </tr>\n",
              "    <tr>\n",
              "      <th>1</th>\n",
              "      <td>-122.22</td>\n",
              "      <td>37.86</td>\n",
              "      <td>21</td>\n",
              "      <td>7099</td>\n",
              "      <td>1106</td>\n",
              "      <td>2401</td>\n",
              "      <td>1138</td>\n",
              "      <td>8.3014</td>\n",
              "      <td>358500</td>\n",
              "      <td>NEAR BAY</td>\n",
              "    </tr>\n",
              "    <tr>\n",
              "      <th>2</th>\n",
              "      <td>-122.24</td>\n",
              "      <td>37.85</td>\n",
              "      <td>52</td>\n",
              "      <td>1467</td>\n",
              "      <td>190</td>\n",
              "      <td>496</td>\n",
              "      <td>177</td>\n",
              "      <td>7.2574</td>\n",
              "      <td>352100</td>\n",
              "      <td>NEAR BAY</td>\n",
              "    </tr>\n",
              "    <tr>\n",
              "      <th>3</th>\n",
              "      <td>-122.25</td>\n",
              "      <td>37.85</td>\n",
              "      <td>52</td>\n",
              "      <td>1274</td>\n",
              "      <td>235</td>\n",
              "      <td>558</td>\n",
              "      <td>219</td>\n",
              "      <td>5.6431</td>\n",
              "      <td>341300</td>\n",
              "      <td>NEAR BAY</td>\n",
              "    </tr>\n",
              "    <tr>\n",
              "      <th>4</th>\n",
              "      <td>-122.25</td>\n",
              "      <td>37.85</td>\n",
              "      <td>52</td>\n",
              "      <td>1627</td>\n",
              "      <td>280</td>\n",
              "      <td>565</td>\n",
              "      <td>259</td>\n",
              "      <td>3.8462</td>\n",
              "      <td>342200</td>\n",
              "      <td>NEAR BAY</td>\n",
              "    </tr>\n",
              "    <tr>\n",
              "      <th>...</th>\n",
              "      <td>...</td>\n",
              "      <td>...</td>\n",
              "      <td>...</td>\n",
              "      <td>...</td>\n",
              "      <td>...</td>\n",
              "      <td>...</td>\n",
              "      <td>...</td>\n",
              "      <td>...</td>\n",
              "      <td>...</td>\n",
              "      <td>...</td>\n",
              "    </tr>\n",
              "    <tr>\n",
              "      <th>20635</th>\n",
              "      <td>-121.09</td>\n",
              "      <td>39.48</td>\n",
              "      <td>25</td>\n",
              "      <td>1665</td>\n",
              "      <td>374</td>\n",
              "      <td>845</td>\n",
              "      <td>330</td>\n",
              "      <td>1.5603</td>\n",
              "      <td>78100</td>\n",
              "      <td>INLAND</td>\n",
              "    </tr>\n",
              "    <tr>\n",
              "      <th>20636</th>\n",
              "      <td>-121.21</td>\n",
              "      <td>39.49</td>\n",
              "      <td>18</td>\n",
              "      <td>697</td>\n",
              "      <td>150</td>\n",
              "      <td>356</td>\n",
              "      <td>114</td>\n",
              "      <td>2.5568</td>\n",
              "      <td>77100</td>\n",
              "      <td>INLAND</td>\n",
              "    </tr>\n",
              "    <tr>\n",
              "      <th>20637</th>\n",
              "      <td>-121.22</td>\n",
              "      <td>39.43</td>\n",
              "      <td>17</td>\n",
              "      <td>2254</td>\n",
              "      <td>485</td>\n",
              "      <td>1007</td>\n",
              "      <td>433</td>\n",
              "      <td>1.7000</td>\n",
              "      <td>92300</td>\n",
              "      <td>INLAND</td>\n",
              "    </tr>\n",
              "    <tr>\n",
              "      <th>20638</th>\n",
              "      <td>-121.32</td>\n",
              "      <td>39.43</td>\n",
              "      <td>18</td>\n",
              "      <td>1860</td>\n",
              "      <td>409</td>\n",
              "      <td>741</td>\n",
              "      <td>349</td>\n",
              "      <td>1.8672</td>\n",
              "      <td>84700</td>\n",
              "      <td>INLAND</td>\n",
              "    </tr>\n",
              "    <tr>\n",
              "      <th>20639</th>\n",
              "      <td>-121.24</td>\n",
              "      <td>39.37</td>\n",
              "      <td>16</td>\n",
              "      <td>2785</td>\n",
              "      <td>616</td>\n",
              "      <td>1387</td>\n",
              "      <td>530</td>\n",
              "      <td>2.3886</td>\n",
              "      <td>89400</td>\n",
              "      <td>INLAND</td>\n",
              "    </tr>\n",
              "  </tbody>\n",
              "</table>\n",
              "<p>20640 rows × 10 columns</p>\n",
              "</div>"
            ],
            "text/plain": [
              "       longitude  latitude  ...  median_house_value  ocean_proximity\n",
              "0        -122.23     37.88  ...              452600         NEAR BAY\n",
              "1        -122.22     37.86  ...              358500         NEAR BAY\n",
              "2        -122.24     37.85  ...              352100         NEAR BAY\n",
              "3        -122.25     37.85  ...              341300         NEAR BAY\n",
              "4        -122.25     37.85  ...              342200         NEAR BAY\n",
              "...          ...       ...  ...                 ...              ...\n",
              "20635    -121.09     39.48  ...               78100           INLAND\n",
              "20636    -121.21     39.49  ...               77100           INLAND\n",
              "20637    -121.22     39.43  ...               92300           INLAND\n",
              "20638    -121.32     39.43  ...               84700           INLAND\n",
              "20639    -121.24     39.37  ...               89400           INLAND\n",
              "\n",
              "[20640 rows x 10 columns]"
            ]
          },
          "metadata": {
            "tags": []
          },
          "execution_count": 3
        }
      ]
    },
    {
      "cell_type": "markdown",
      "metadata": {
        "id": "SibWeHHiGSGU"
      },
      "source": [
        "Extracting the required columns"
      ]
    },
    {
      "cell_type": "code",
      "metadata": {
        "id": "ua-Xe3OJpZSk"
      },
      "source": [
        "x_long = df.iloc[:,0].values.reshape(df.shape[0],1)\n",
        "x_lat = df.iloc[:,1].values.reshape(df.shape[0],1)\n",
        "x_hma = df.iloc[:,2].values.reshape(df.shape[0],1)\n",
        "x_mi = df.iloc[:,7].values.reshape(df.shape[0],1)\n",
        "\n",
        "x_input = df.iloc[:,0:8].values\n",
        "y_out = df.iloc[:,8].values"
      ],
      "execution_count": null,
      "outputs": []
    },
    {
      "cell_type": "markdown",
      "metadata": {
        "id": "97uzPQcsFl6U"
      },
      "source": [
        "Training Model 1 ---------  Longitude v. median_house_value  ---------"
      ]
    },
    {
      "cell_type": "code",
      "metadata": {
        "id": "L_S2oc55qEg4"
      },
      "source": [
        "from sklearn.model_selection import train_test_split"
      ],
      "execution_count": null,
      "outputs": []
    },
    {
      "cell_type": "code",
      "metadata": {
        "id": "Yy_xk2tOqRVY"
      },
      "source": [
        "x1_train, x1_test, y1_train, y1_test = train_test_split(x_long, y_out, test_size = 0.2)"
      ],
      "execution_count": null,
      "outputs": []
    },
    {
      "cell_type": "code",
      "metadata": {
        "id": "RBJFQfhAq-Pj"
      },
      "source": [
        "from sklearn.linear_model import LinearRegression"
      ],
      "execution_count": null,
      "outputs": []
    },
    {
      "cell_type": "code",
      "metadata": {
        "id": "F3QOhUP0rqx9"
      },
      "source": [
        "Lin = LinearRegression()"
      ],
      "execution_count": null,
      "outputs": []
    },
    {
      "cell_type": "code",
      "metadata": {
        "id": "gSWtaqvtrsnp"
      },
      "source": [
        "Lin.fit(x1_train,y1_train)"
      ],
      "execution_count": null,
      "outputs": []
    },
    {
      "cell_type": "markdown",
      "metadata": {
        "id": "hspqOdBcGuDR"
      },
      "source": [
        "Testing Model 1"
      ]
    },
    {
      "cell_type": "code",
      "metadata": {
        "id": "aio6_0K3rvcS"
      },
      "source": [
        "y1_pred = Lin.predict(x1_test)"
      ],
      "execution_count": null,
      "outputs": []
    },
    {
      "cell_type": "code",
      "metadata": {
        "id": "NTtHdZRDr2EF"
      },
      "source": [
        "abs(y1_pred - y1_test).mean()"
      ],
      "execution_count": null,
      "outputs": []
    },
    {
      "cell_type": "code",
      "metadata": {
        "id": "Que0ojL-tFx9"
      },
      "source": [
        "import matplotlib.pyplot as plt"
      ],
      "execution_count": null,
      "outputs": []
    },
    {
      "cell_type": "code",
      "metadata": {
        "id": "J8XmHal9s9Qz"
      },
      "source": [
        "plt.scatter(x_long, y_out, color ='b')\n",
        "plt.plot(x1_test, y1_pred, color ='k')\n",
        "\n",
        "plt.show()\n",
        "# Data scatter of predicted values"
      ],
      "execution_count": null,
      "outputs": []
    },
    {
      "cell_type": "markdown",
      "metadata": {
        "id": "V5LkJ795F7ki"
      },
      "source": [
        "Training Model 2 ---------- Latitude v. median_house_value ----------"
      ]
    },
    {
      "cell_type": "code",
      "metadata": {
        "id": "acZZWz7Lts1c"
      },
      "source": [
        "x2_train, x2_test, y2_train, y2_test = train_test_split(x_lat, y_out, test_size = 0.2)"
      ],
      "execution_count": null,
      "outputs": []
    },
    {
      "cell_type": "code",
      "metadata": {
        "id": "PUqQD2lrFMyZ"
      },
      "source": [
        "Lin2 = LinearRegression()"
      ],
      "execution_count": null,
      "outputs": []
    },
    {
      "cell_type": "code",
      "metadata": {
        "id": "2ISA2hVgtmYi"
      },
      "source": [
        "Lin2.fit(x2_train,y2_train)"
      ],
      "execution_count": null,
      "outputs": []
    },
    {
      "cell_type": "markdown",
      "metadata": {
        "id": "m3LfCewRJR47"
      },
      "source": [
        "Testing Model 2"
      ]
    },
    {
      "cell_type": "code",
      "metadata": {
        "id": "pjiKS6ept_27"
      },
      "source": [
        "y2_pred = Lin2.predict(x2_test)"
      ],
      "execution_count": null,
      "outputs": []
    },
    {
      "cell_type": "code",
      "metadata": {
        "id": "5I1lkbO_uLQK"
      },
      "source": [
        "abs(y2_pred - y2_test).mean()"
      ],
      "execution_count": null,
      "outputs": []
    },
    {
      "cell_type": "code",
      "metadata": {
        "id": "surdTBQC9kpU"
      },
      "source": [
        "plt.scatter(x_lat, y_out, color ='b')\n",
        "plt.plot(x2_test, y2_pred, color ='k')\n",
        "\n",
        "plt.show()\n",
        "# Data scatter of predicted values"
      ],
      "execution_count": null,
      "outputs": []
    },
    {
      "cell_type": "markdown",
      "metadata": {
        "id": "8go8YfVoX-Gw"
      },
      "source": [
        "Random Trials"
      ]
    },
    {
      "cell_type": "code",
      "metadata": {
        "id": "yoaY6IH0uZ1J",
        "colab": {
          "base_uri": "https://localhost:8080/",
          "height": 265
        },
        "outputId": "cc2e093e-06fb-4df1-f36f-8ea7a76f1c7c"
      },
      "source": [
        "plt.scatter(x_long, x_lat, color ='b')\n",
        "\n",
        "plt.show()\n",
        "# Data scatter of predicted values"
      ],
      "execution_count": null,
      "outputs": [
        {
          "output_type": "display_data",
          "data": {
            "image/png": "[encoded data removed]",
            "text/plain": [
              "<Figure size 432x288 with 1 Axes>"
            ]
          },
          "metadata": {
            "tags": [],
            "needs_background": "light"
          }
        }
      ]
    },
    {
      "cell_type": "code",
      "metadata": {
        "id": "NV5fZ8TIuUxv"
      },
      "source": [
        "# importing mplot3d toolkits, numpy and matplotlib\n",
        "from mpl_toolkits import mplot3d\n",
        "import numpy as np\n",
        "\n",
        "fig = plt.figure()\n",
        "\n",
        "# syntax for 3-D projection\n",
        "ax = plt.axes(projection ='3d')\n",
        "\n",
        "# defining all 3 axes\n",
        "z = y_out\n",
        "x = x_long\n",
        "y = x_lat\n",
        "\n",
        "# plotting\n",
        "ax.scatter(x, y, z, 'green')\n",
        "ax.set_title('3D line plot geeks for geeks')\n",
        "plt.show()"
      ],
      "execution_count": null,
      "outputs": []
    },
    {
      "cell_type": "markdown",
      "metadata": {
        "id": "s-KOUmuHMP-l"
      },
      "source": [
        "Training Model 3 ---------- (Longitude, Latitude) v/s Median House Value ----------"
      ]
    },
    {
      "cell_type": "code",
      "metadata": {
        "id": "O84M9oxPLx5J"
      },
      "source": [
        "x = df.iloc[:,0:2].values"
      ],
      "execution_count": null,
      "outputs": []
    },
    {
      "cell_type": "code",
      "metadata": {
        "id": "6l1sQm2dMGAa"
      },
      "source": [
        "x"
      ],
      "execution_count": null,
      "outputs": []
    },
    {
      "cell_type": "code",
      "metadata": {
        "id": "ILQgQ9YNMdhL"
      },
      "source": [
        "x3_train, x3_test, y3_train, y3_test = train_test_split(x,y_out, test_size = 0.2) "
      ],
      "execution_count": null,
      "outputs": []
    },
    {
      "cell_type": "code",
      "metadata": {
        "id": "_HU8okczMT2K"
      },
      "source": [
        "Lin3 = LinearRegression()"
      ],
      "execution_count": null,
      "outputs": []
    },
    {
      "cell_type": "code",
      "metadata": {
        "id": "KyXqw8-3MvZq"
      },
      "source": [
        "Lin3.fit(x3_train, y3_train)"
      ],
      "execution_count": null,
      "outputs": []
    },
    {
      "cell_type": "markdown",
      "metadata": {
        "id": "XiSW2a2UM8Cf"
      },
      "source": [
        "Testing Model 3"
      ]
    },
    {
      "cell_type": "code",
      "metadata": {
        "id": "BSSIBISXM4u6"
      },
      "source": [
        "y3_pred = Lin3.predict(x3_test)"
      ],
      "execution_count": null,
      "outputs": []
    },
    {
      "cell_type": "code",
      "metadata": {
        "id": "lrdycvGANJ44"
      },
      "source": [
        "abs(y3_pred - y3_test).mean()"
      ],
      "execution_count": null,
      "outputs": []
    },
    {
      "cell_type": "code",
      "metadata": {
        "id": "m3_pVh4ZNgZ6"
      },
      "source": [
        "Lin3.predict([[-122.23,37.88]])"
      ],
      "execution_count": null,
      "outputs": []
    },
    {
      "cell_type": "markdown",
      "metadata": {
        "id": "GnAoy-0usPql"
      },
      "source": [
        "Training Model 4 ------------ Housing Age v/s Median House Value ------------"
      ]
    },
    {
      "cell_type": "code",
      "metadata": {
        "id": "5CWArAu2NSxF"
      },
      "source": [
        "x_hma"
      ],
      "execution_count": null,
      "outputs": []
    },
    {
      "cell_type": "code",
      "metadata": {
        "id": "Z6HxyUevt5zP"
      },
      "source": [
        "x4_train, x4_test, y4_train, y4_test = train_test_split(x_hma, y_out, test_size = 0.2)"
      ],
      "execution_count": null,
      "outputs": []
    },
    {
      "cell_type": "code",
      "metadata": {
        "id": "qS1z7LMJuPR0"
      },
      "source": [
        "Lin4 = LinearRegression()"
      ],
      "execution_count": null,
      "outputs": []
    },
    {
      "cell_type": "code",
      "metadata": {
        "id": "WV4cxU82uSAd"
      },
      "source": [
        "Lin4.fit(x4_train,y4_train)"
      ],
      "execution_count": null,
      "outputs": []
    },
    {
      "cell_type": "markdown",
      "metadata": {
        "id": "WdujX44yuaaX"
      },
      "source": [
        "Testing Model 4"
      ]
    },
    {
      "cell_type": "code",
      "metadata": {
        "id": "2Y4DszXXuWfW"
      },
      "source": [
        "y4_pred = Lin4.predict(x4_test)"
      ],
      "execution_count": null,
      "outputs": []
    },
    {
      "cell_type": "code",
      "metadata": {
        "id": "glL95KfiuiMt"
      },
      "source": [
        "abs(y4_pred - y4_test).mean()"
      ],
      "execution_count": null,
      "outputs": []
    },
    {
      "cell_type": "code",
      "metadata": {
        "id": "S2fzreQuu8Fq"
      },
      "source": [
        "plt.scatter(x_hma, y_out, color ='b')\n",
        "plt.plot(x4_test, y4_pred, color ='k')\n",
        "\n",
        "plt.show()\n",
        "# Data scatter of predicted values"
      ],
      "execution_count": null,
      "outputs": []
    },
    {
      "cell_type": "markdown",
      "metadata": {
        "id": "NJSrL9AGN6sZ"
      },
      "source": [
        "Training Model 5 ------------ Median Income v/s Median House Value ------------"
      ]
    },
    {
      "cell_type": "code",
      "metadata": {
        "id": "jwk5Nft_N6sa"
      },
      "source": [
        "x_mi"
      ],
      "execution_count": null,
      "outputs": []
    },
    {
      "cell_type": "code",
      "metadata": {
        "id": "tbYxMulPN6sa"
      },
      "source": [
        "x5_train, x5_test, y5_train, y5_test = train_test_split(x_mi, y_out, test_size = 0.2)"
      ],
      "execution_count": null,
      "outputs": []
    },
    {
      "cell_type": "code",
      "metadata": {
        "id": "b80V9RRmN6sb"
      },
      "source": [
        "Lin5 = LinearRegression()"
      ],
      "execution_count": null,
      "outputs": []
    },
    {
      "cell_type": "code",
      "metadata": {
        "id": "CMrqOdJsN6sb"
      },
      "source": [
        "Lin5.fit(x5_train,y5_train)"
      ],
      "execution_count": null,
      "outputs": []
    },
    {
      "cell_type": "markdown",
      "metadata": {
        "id": "c3IEMUIEN6sc"
      },
      "source": [
        "Testing Model 5"
      ]
    },
    {
      "cell_type": "code",
      "metadata": {
        "id": "WlBqPP0nN6sc"
      },
      "source": [
        "y5_pred = Lin5.predict(x5_test)"
      ],
      "execution_count": null,
      "outputs": []
    },
    {
      "cell_type": "code",
      "metadata": {
        "id": "gBL_V8YgN6sd"
      },
      "source": [
        "abs(y5_pred - y5_test).mean()"
      ],
      "execution_count": null,
      "outputs": []
    },
    {
      "cell_type": "code",
      "metadata": {
        "id": "88VraelDN6sd"
      },
      "source": [
        "plt.scatter(x_mi, y_out, color ='b')\n",
        "plt.plot(x5_test, y5_pred, color ='k')\n",
        "\n",
        "plt.show()\n",
        "# Data scatter of predicted values"
      ],
      "execution_count": null,
      "outputs": []
    },
    {
      "cell_type": "markdown",
      "metadata": {
        "id": "34F5WJFQP_go"
      },
      "source": [
        "---"
      ]
    },
    {
      "cell_type": "markdown",
      "metadata": {
        "id": "_g2xFFhTQW7E"
      },
      "source": [
        "Consolidated Model:"
      ]
    },
    {
      "cell_type": "markdown",
      "metadata": {
        "id": "hPpWsHXJQcMs"
      },
      "source": [
        "Training:"
      ]
    },
    {
      "cell_type": "code",
      "metadata": {
        "id": "OBG4aDfTP9zy"
      },
      "source": [
        "x_input"
      ],
      "execution_count": null,
      "outputs": []
    },
    {
      "cell_type": "code",
      "metadata": {
        "id": "BUFml9hEQfZl"
      },
      "source": [
        "xc_train, xc_test, yc_train, yc_test = train_test_split(x_input, y_out, test_size = 0.2)"
      ],
      "execution_count": null,
      "outputs": []
    },
    {
      "cell_type": "code",
      "metadata": {
        "id": "vmHrp_xvQ4_b"
      },
      "source": [
        "Lin6 = LinearRegression()"
      ],
      "execution_count": null,
      "outputs": []
    },
    {
      "cell_type": "code",
      "metadata": {
        "id": "O7NU_nQwRe1X"
      },
      "source": [
        "Lin6.fit(xc_train, yc_train)"
      ],
      "execution_count": null,
      "outputs": []
    },
    {
      "cell_type": "markdown",
      "metadata": {
        "id": "MUFyMRMITdpP"
      },
      "source": [
        "Testing the model"
      ]
    },
    {
      "cell_type": "code",
      "metadata": {
        "id": "nJnksiEyRjUQ"
      },
      "source": [
        "y6_pred = Lin6.predict(xc_test)"
      ],
      "execution_count": null,
      "outputs": []
    },
    {
      "cell_type": "code",
      "metadata": {
        "id": "fYUQL9nRT5lK"
      },
      "source": [
        "abs(y6_pred - yc_test).mean()"
      ],
      "execution_count": null,
      "outputs": []
    },
    {
      "cell_type": "code",
      "metadata": {
        "id": "fZHfH4b-XcUq"
      },
      "source": [
        "Lin6.predict([[-122.04, 38, 16, 3077, 733, 1447, 709, 3.2484]])"
      ],
      "execution_count": null,
      "outputs": []
    },
    {
      "cell_type": "markdown",
      "metadata": {
        "id": "wQnMu_NSYv-J"
      },
      "source": [
        ""
      ]
    }
  ]
}